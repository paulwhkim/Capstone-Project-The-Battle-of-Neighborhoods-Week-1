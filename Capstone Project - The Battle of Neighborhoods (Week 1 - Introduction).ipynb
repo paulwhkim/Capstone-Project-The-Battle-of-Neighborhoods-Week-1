{
 "cells": [
  {
   "cell_type": "raw",
   "metadata": {},
   "source": [
    "Background:\n",
    "\n",
    "In this project, we are to define a problem or an idea of our choice, where we would need to leverage location data to solve or execute. This submission will eventually be part of a Introduction/Business Problem section in a final report. \n",
    "\n",
    "\n",
    "Introduction:\n",
    "\n",
    "The Covid-19 virus pandemic has completely changed the landscape for New York City, perhaps forever. The borders were shut down for travelers. Tourism vanished overnight, something that New York City feeds on. While the pandemic situation is cataphrosphic for many (hospitals, existing business owners, the municpality, etc to name a few), it may present an interesting opportunity for future business investment. Specifically, whether or not it would be wise to open up a Ramen shop in New York City. The massive closures happening in New York City, paired with the ballooning city budget deficits, is providing cheaper rents and more favorable new lease terms. \n",
    "\n",
    "\n",
    "Idea/Business Problem:\n",
    "\n",
    "Is it a good time to open a Ramen Shop/Asian restaurant in New York City? \n",
    "\n",
    "\n",
    "Target Audience: \n",
    "\n",
    "This study and recommendation will be beneficial for business investors and future entrepreneurs looking to start or expand a business into the New York City Metropolitan area. \n",
    "\n",
    "\n",
    "Data used:\n",
    "\n",
    "For this project, we will leverage Foursquare location data to solve and execute. This data should include New York City longtitude and latitude data, specifying neighborhoods, and data for different types of restaurants.\n",
    "\n"
   ]
  }
 ],
 "metadata": {
  "kernelspec": {
   "display_name": "Python 3",
   "language": "python",
   "name": "python3"
  },
  "language_info": {
   "codemirror_mode": {
    "name": "ipython",
    "version": 3
   },
   "file_extension": ".py",
   "mimetype": "text/x-python",
   "name": "python",
   "nbconvert_exporter": "python",
   "pygments_lexer": "ipython3",
   "version": "3.8.3"
  }
 },
 "nbformat": 4,
 "nbformat_minor": 4
}
